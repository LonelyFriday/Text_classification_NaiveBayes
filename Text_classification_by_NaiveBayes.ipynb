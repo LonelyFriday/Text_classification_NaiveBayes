{
  "nbformat": 4,
  "nbformat_minor": 0,
  "metadata": {
    "colab": {
      "name": "Text_classification_by_NaiveBayes.ipynb",
      "provenance": [],
      "collapsed_sections": [],
      "authorship_tag": "ABX9TyO1dFxO9mLc68e4yrvmrlMn",
      "include_colab_link": true
    },
    "kernelspec": {
      "name": "python3",
      "display_name": "Python 3"
    }
  },
  "cells": [
    {
      "cell_type": "markdown",
      "metadata": {
        "id": "view-in-github",
        "colab_type": "text"
      },
      "source": [
        "<a href=\"https://colab.research.google.com/github/LonelyFriday/Text_classification_NaiveBayes/blob/main/Text_classification_by_NaiveBayes.ipynb\" target=\"_parent\"><img src=\"https://colab.research.google.com/assets/colab-badge.svg\" alt=\"Open In Colab\"/></a>"
      ]
    },
    {
      "cell_type": "code",
      "metadata": {
        "id": "xg1zQkWzpHxw"
      },
      "source": [
        "import numpy as np\r\n",
        "import pandas as pd\r\n",
        "\r\n",
        "from sklearn.datasets import fetch_20newsgroups\r\n",
        "from sklearn.model_selection import train_test_split\r\n",
        "from sklearn.feature_extraction.text import TfidfVectorizer\r\n",
        "from sklearn.naive_bayes import MultinomialNB"
      ],
      "execution_count": 1,
      "outputs": []
    },
    {
      "cell_type": "markdown",
      "metadata": {
        "id": "fjgBkexV-6xW"
      },
      "source": [
        "#Load data\r\n",
        "\r\n",
        "*   ข้อมูลข้อความใน E-mail\r\n",
        "*   ข้อมูลมีขนาด 11,314 บทความ\r\n",
        "\r\n"
      ]
    },
    {
      "cell_type": "code",
      "metadata": {
        "id": "uqIMTxepqHwB",
        "colab": {
          "base_uri": "https://localhost:8080/"
        },
        "outputId": "57f5fbf0-0e27-48cd-b418-e1bbcaa8a875"
      },
      "source": [
        "data = fetch_20newsgroups(subset='train')"
      ],
      "execution_count": 2,
      "outputs": [
        {
          "output_type": "stream",
          "text": [
            "Downloading 20news dataset. This may take a few minutes.\n",
            "Downloading dataset from https://ndownloader.figshare.com/files/5975967 (14 MB)\n"
          ],
          "name": "stderr"
        }
      ]
    },
    {
      "cell_type": "code",
      "metadata": {
        "colab": {
          "base_uri": "https://localhost:8080/"
        },
        "id": "FXcuPfXw_HHf",
        "outputId": "fd0644e8-95e0-474a-d1ba-d62a1abdbfe9"
      },
      "source": [
        "print('ขนาดของข้อมูล:', len(data.data))"
      ],
      "execution_count": 14,
      "outputs": [
        {
          "output_type": "stream",
          "text": [
            "ขนาดของข้อมูล: 11314\n"
          ],
          "name": "stdout"
        }
      ]
    },
    {
      "cell_type": "code",
      "metadata": {
        "colab": {
          "base_uri": "https://localhost:8080/"
        },
        "id": "xkQFZnRvqMaI",
        "outputId": "aa233b70-6456-4205-bf71-5468d8363681"
      },
      "source": [
        "print('หัวเรื่องบทความ มีทั้งหมด: 20 เรื่อง\\n')\r\n",
        "data.target_names"
      ],
      "execution_count": 16,
      "outputs": [
        {
          "output_type": "stream",
          "text": [
            "หัวเรื่องบทความ มีทั้งหมด: 20 เรื่อง\n",
            "\n"
          ],
          "name": "stdout"
        },
        {
          "output_type": "execute_result",
          "data": {
            "text/plain": [
              "['alt.atheism',\n",
              " 'comp.graphics',\n",
              " 'comp.os.ms-windows.misc',\n",
              " 'comp.sys.ibm.pc.hardware',\n",
              " 'comp.sys.mac.hardware',\n",
              " 'comp.windows.x',\n",
              " 'misc.forsale',\n",
              " 'rec.autos',\n",
              " 'rec.motorcycles',\n",
              " 'rec.sport.baseball',\n",
              " 'rec.sport.hockey',\n",
              " 'sci.crypt',\n",
              " 'sci.electronics',\n",
              " 'sci.med',\n",
              " 'sci.space',\n",
              " 'soc.religion.christian',\n",
              " 'talk.politics.guns',\n",
              " 'talk.politics.mideast',\n",
              " 'talk.politics.misc',\n",
              " 'talk.religion.misc']"
            ]
          },
          "metadata": {
            "tags": []
          },
          "execution_count": 16
        }
      ]
    },
    {
      "cell_type": "markdown",
      "metadata": {
        "id": "D0DFaBP-AOOY"
      },
      "source": [
        "## ตัวอย่าง ข้อมูล"
      ]
    },
    {
      "cell_type": "code",
      "metadata": {
        "colab": {
          "base_uri": "https://localhost:8080/",
          "height": 89
        },
        "id": "zQAyWQn5_8oE",
        "outputId": "97890595-1694-4144-9c6b-e0422f3f5269"
      },
      "source": [
        "data.data[0]"
      ],
      "execution_count": 19,
      "outputs": [
        {
          "output_type": "execute_result",
          "data": {
            "application/vnd.google.colaboratory.intrinsic+json": {
              "type": "string"
            },
            "text/plain": [
              "\"From: lerxst@wam.umd.edu (where's my thing)\\nSubject: WHAT car is this!?\\nNntp-Posting-Host: rac3.wam.umd.edu\\nOrganization: University of Maryland, College Park\\nLines: 15\\n\\n I was wondering if anyone out there could enlighten me on this car I saw\\nthe other day. It was a 2-door sports car, looked to be from the late 60s/\\nearly 70s. It was called a Bricklin. The doors were really small. In addition,\\nthe front bumper was separate from the rest of the body. This is \\nall I know. If anyone can tellme a model name, engine specs, years\\nof production, where this car is made, history, or whatever info you\\nhave on this funky looking car, please e-mail.\\n\\nThanks,\\n- IL\\n   ---- brought to you by your neighborhood Lerxst ----\\n\\n\\n\\n\\n\""
            ]
          },
          "metadata": {
            "tags": []
          },
          "execution_count": 19
        }
      ]
    },
    {
      "cell_type": "markdown",
      "metadata": {
        "id": "EhdZ9Q8U_gCR"
      },
      "source": [
        "# แบ่งข้อมูลออกเป็น Train, Test\r\n",
        "\r\n",
        "*   Train: 80%\r\n",
        "*   Test: 20%\r\n",
        "\r\n"
      ]
    },
    {
      "cell_type": "code",
      "metadata": {
        "id": "tf-AHg9DqNok"
      },
      "source": [
        "X_train, X_test, y_train, y_test = train_test_split(data.data, data.target, test_size=0.2, random_state=12)"
      ],
      "execution_count": 4,
      "outputs": []
    },
    {
      "cell_type": "markdown",
      "metadata": {
        "id": "rnHv-mGlAUR0"
      },
      "source": [
        "## ขนาดของ Train data และ Test data"
      ]
    },
    {
      "cell_type": "code",
      "metadata": {
        "colab": {
          "base_uri": "https://localhost:8080/"
        },
        "id": "3PjWkw_3s5VF",
        "outputId": "78db4441-4957-423c-b274-0b840ded25a4"
      },
      "source": [
        "print('Size of Train data', len(X_train))\r\n",
        "print('Size of Test data', len(X_test))"
      ],
      "execution_count": 5,
      "outputs": [
        {
          "output_type": "stream",
          "text": [
            "Size of Train data 9051\n",
            "Size of Test data 2263\n"
          ],
          "name": "stdout"
        }
      ]
    },
    {
      "cell_type": "markdown",
      "metadata": {
        "id": "aNyhxqxaAZUQ"
      },
      "source": [
        "# ทำการหา Tag ในข้อมูล\r\n",
        "\r\n",
        "*   วิธี TFIDF\r\n",
        "\r\n",
        "\r\n"
      ]
    },
    {
      "cell_type": "code",
      "metadata": {
        "id": "0nW1JjfBr_Fj"
      },
      "source": [
        "tvec = TfidfVectorizer(stop_words='english')\r\n",
        "X_train_tfidf = tvec.fit_transform(X_train)\r\n",
        "X_test_tfidf = tvec.transform(X_test)"
      ],
      "execution_count": 6,
      "outputs": []
    },
    {
      "cell_type": "markdown",
      "metadata": {
        "id": "vwV_3wWiAvSs"
      },
      "source": [
        "## ขนาดของ Tag ที่ได้จาก X_train: 114,163 Tags"
      ]
    },
    {
      "cell_type": "code",
      "metadata": {
        "colab": {
          "base_uri": "https://localhost:8080/"
        },
        "id": "MCan_4t0tuMG",
        "outputId": "8aa4f228-ad84-452c-dace-d59f03be4093"
      },
      "source": [
        "X_train_tfidf.shape"
      ],
      "execution_count": 7,
      "outputs": [
        {
          "output_type": "execute_result",
          "data": {
            "text/plain": [
              "(9051, 114163)"
            ]
          },
          "metadata": {
            "tags": []
          },
          "execution_count": 7
        }
      ]
    },
    {
      "cell_type": "markdown",
      "metadata": {
        "id": "S5fx4WIWA8DZ"
      },
      "source": [
        "# Naive Bayes model"
      ]
    },
    {
      "cell_type": "code",
      "metadata": {
        "colab": {
          "base_uri": "https://localhost:8080/"
        },
        "id": "MHPxN03ftURO",
        "outputId": "4fdbdf6d-cdcf-44b9-ebe4-801b528b2cf3"
      },
      "source": [
        "model = MultinomialNB()\r\n",
        "model.fit(X_train_tfidf, y_train)"
      ],
      "execution_count": 8,
      "outputs": [
        {
          "output_type": "execute_result",
          "data": {
            "text/plain": [
              "MultinomialNB(alpha=1.0, class_prior=None, fit_prior=True)"
            ]
          },
          "metadata": {
            "tags": []
          },
          "execution_count": 8
        }
      ]
    },
    {
      "cell_type": "markdown",
      "metadata": {
        "id": "KjaTYbTZBDUH"
      },
      "source": [
        "## Accuracy ของโมเดลอยู่ที่ 88.24%"
      ]
    },
    {
      "cell_type": "code",
      "metadata": {
        "colab": {
          "base_uri": "https://localhost:8080/"
        },
        "id": "rWjTr11ktejf",
        "outputId": "fd09ae55-2e4e-4457-e73e-25277f0ae784"
      },
      "source": [
        "print('Accuracy:', model.score(X_test_tfidf, y_test))"
      ],
      "execution_count": 9,
      "outputs": [
        {
          "output_type": "stream",
          "text": [
            "Accuracy: 0.8824569155987627\n"
          ],
          "name": "stdout"
        }
      ]
    },
    {
      "cell_type": "markdown",
      "metadata": {
        "id": "oRyN4gHIBJuy"
      },
      "source": [
        "## ทดสอบ Model ด้วยข้อความ: 'OpenGL on the GPU is fast'"
      ]
    },
    {
      "cell_type": "code",
      "metadata": {
        "colab": {
          "base_uri": "https://localhost:8080/"
        },
        "id": "s5Mo9geNt60K",
        "outputId": "13f7662a-fa9d-439c-a390-04df57266719"
      },
      "source": [
        "model.predict(tvec.transform(['OpenGL on the GPU is fast']))"
      ],
      "execution_count": 10,
      "outputs": [
        {
          "output_type": "execute_result",
          "data": {
            "text/plain": [
              "array([1])"
            ]
          },
          "metadata": {
            "tags": []
          },
          "execution_count": 10
        }
      ]
    },
    {
      "cell_type": "code",
      "metadata": {
        "colab": {
          "base_uri": "https://localhost:8080/",
          "height": 35
        },
        "id": "-PB5ITrxucrn",
        "outputId": "a69690bf-0128-499b-8afb-6a0b703c4459"
      },
      "source": [
        "data.target_names[model.predict(tvec.transform(['OpenGL on the GPU is fast']))[0]]"
      ],
      "execution_count": 11,
      "outputs": [
        {
          "output_type": "execute_result",
          "data": {
            "application/vnd.google.colaboratory.intrinsic+json": {
              "type": "string"
            },
            "text/plain": [
              "'comp.graphics'"
            ]
          },
          "metadata": {
            "tags": []
          },
          "execution_count": 11
        }
      ]
    }
  ]
}